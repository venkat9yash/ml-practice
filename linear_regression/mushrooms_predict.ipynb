{
 "cells": [
  {
   "cell_type": "code",
   "execution_count": null,
   "metadata": {
    "collapsed": true
   },
   "outputs": [],
   "source": [
    "# This file takes in a dataset on mushrooms and tries to predict if it is poisonous or not\n",
    "# beh502 11/25/17"
   ]
  },
  {
   "cell_type": "code",
   "execution_count": 21,
   "metadata": {
    "collapsed": true
   },
   "outputs": [],
   "source": [
    "import numpy as np\n",
    "import pandas as pd\n",
    "from sklearn.cross_validation import train_test_split\n",
    "from sklearn.linear_model import LinearRegression\n",
    "from sklearn.metrics import accuracy_score, r2_score, mean_squared_error\n",
    "from sklearn.manifold import TSNE"
   ]
  },
  {
   "cell_type": "code",
   "execution_count": 3,
   "metadata": {},
   "outputs": [
    {
     "name": "stdout",
     "output_type": "stream",
     "text": [
      "['class' 'cap-shape' 'cap-surface' 'cap-color' 'bruises' 'odor'\n",
      " 'gill-attachment' 'gill-spacing' 'gill-size' 'gill-color' 'stalk-shape'\n",
      " 'stalk-root' 'stalk-surface-above-ring' 'stalk-surface-below-ring'\n",
      " 'stalk-color-above-ring' 'stalk-color-below-ring' 'veil-type' 'veil-color'\n",
      " 'ring-number' 'ring-type' 'spore-print-color' 'population' 'habitat']\n"
     ]
    }
   ],
   "source": [
    "mushrooms_df = pd.read_csv(\"/Users/beh502/ml-practice/linear_regression/data/mushrooms.csv\")\n",
    "print mushrooms_df.columns.values\n",
    "hot_encoded_mushrooms_df = pd.get_dummies(mushrooms_df)\n",
    "\n",
    "# VISUALIZE THIS DATA WITH T-SNE"
   ]
  },
  {
   "cell_type": "code",
   "execution_count": 11,
   "metadata": {
    "collapsed": true
   },
   "outputs": [],
   "source": [
    "# many of these columns have letter values, one-hot-encode to get numerical values\n",
    "test_data, train_data = train_test_split(hot_encoded_mushrooms_df, train_size = 0.8, test_size = 0.2)"
   ]
  },
  {
   "cell_type": "code",
   "execution_count": 12,
   "metadata": {},
   "outputs": [
    {
     "name": "stdout",
     "output_type": "stream",
     "text": [
      "['class_e' 'class_p' 'cap-shape_b' 'cap-shape_c' 'cap-shape_f'\n",
      " 'cap-shape_k' 'cap-shape_s' 'cap-shape_x' 'cap-surface_f' 'cap-surface_g'\n",
      " 'cap-surface_s' 'cap-surface_y' 'cap-color_b' 'cap-color_c' 'cap-color_e'\n",
      " 'cap-color_g' 'cap-color_n' 'cap-color_p' 'cap-color_r' 'cap-color_u'\n",
      " 'cap-color_w' 'cap-color_y' 'bruises_f' 'bruises_t' 'odor_a' 'odor_c'\n",
      " 'odor_f' 'odor_l' 'odor_m' 'odor_n' 'odor_p' 'odor_s' 'odor_y'\n",
      " 'gill-attachment_a' 'gill-attachment_f' 'gill-spacing_c' 'gill-spacing_w'\n",
      " 'gill-size_b' 'gill-size_n' 'gill-color_b' 'gill-color_e' 'gill-color_g'\n",
      " 'gill-color_h' 'gill-color_k' 'gill-color_n' 'gill-color_o' 'gill-color_p'\n",
      " 'gill-color_r' 'gill-color_u' 'gill-color_w' 'gill-color_y'\n",
      " 'stalk-shape_e' 'stalk-shape_t' 'stalk-root_?' 'stalk-root_b'\n",
      " 'stalk-root_c' 'stalk-root_e' 'stalk-root_r' 'stalk-surface-above-ring_f'\n",
      " 'stalk-surface-above-ring_k' 'stalk-surface-above-ring_s'\n",
      " 'stalk-surface-above-ring_y' 'stalk-surface-below-ring_f'\n",
      " 'stalk-surface-below-ring_k' 'stalk-surface-below-ring_s'\n",
      " 'stalk-surface-below-ring_y' 'stalk-color-above-ring_b'\n",
      " 'stalk-color-above-ring_c' 'stalk-color-above-ring_e'\n",
      " 'stalk-color-above-ring_g' 'stalk-color-above-ring_n'\n",
      " 'stalk-color-above-ring_o' 'stalk-color-above-ring_p'\n",
      " 'stalk-color-above-ring_w' 'stalk-color-above-ring_y'\n",
      " 'stalk-color-below-ring_b' 'stalk-color-below-ring_c'\n",
      " 'stalk-color-below-ring_e' 'stalk-color-below-ring_g'\n",
      " 'stalk-color-below-ring_n' 'stalk-color-below-ring_o'\n",
      " 'stalk-color-below-ring_p' 'stalk-color-below-ring_w'\n",
      " 'stalk-color-below-ring_y' 'veil-type_p' 'veil-color_n' 'veil-color_o'\n",
      " 'veil-color_w' 'veil-color_y' 'ring-number_n' 'ring-number_o'\n",
      " 'ring-number_t' 'ring-type_e' 'ring-type_f' 'ring-type_l' 'ring-type_n'\n",
      " 'ring-type_p' 'spore-print-color_b' 'spore-print-color_h'\n",
      " 'spore-print-color_k' 'spore-print-color_n' 'spore-print-color_o'\n",
      " 'spore-print-color_r' 'spore-print-color_u' 'spore-print-color_w'\n",
      " 'spore-print-color_y' 'population_a' 'population_c' 'population_n'\n",
      " 'population_s' 'population_v' 'population_y' 'habitat_d' 'habitat_g'\n",
      " 'habitat_l' 'habitat_m' 'habitat_p' 'habitat_u' 'habitat_w']\n"
     ]
    }
   ],
   "source": [
    "print train_data.columns.values\n",
    "\n",
    "# VISUALIZE THIS DATA WITH T-SNE"
   ]
  },
  {
   "cell_type": "code",
   "execution_count": 17,
   "metadata": {},
   "outputs": [],
   "source": [
    "y_vals = ['class_e', 'class_p']\n",
    "x_train = train_data.drop(y_vals, axis = 1)\n",
    "y_train = train_data[y_vals]\n",
    "x_test = test_data.drop(y_vals, axis = 1)\n",
    "y_test = test_data[y_vals]"
   ]
  },
  {
   "cell_type": "code",
   "execution_count": 18,
   "metadata": {},
   "outputs": [],
   "source": [
    "model = LinearRegression()\n",
    "model = model.fit(x_train, y_train)\n",
    "predicted_results = model.predict(x_test)"
   ]
  },
  {
   "cell_type": "code",
   "execution_count": 20,
   "metadata": {},
   "outputs": [
    {
     "name": "stdout",
     "output_type": "stream",
     "text": [
      "mean squared error is 4.60231118988e-30\n",
      "rsquared score is 1.0\n"
     ]
    },
    {
     "name": "stderr",
     "output_type": "stream",
     "text": [
      "/Library/Python/2.7/site-packages/sklearn/metrics/regression.py:471: DeprecationWarning: Default 'multioutput' behavior now corresponds to 'variance_weighted' value, it will be changed to 'uniform_average' in 0.18.\n",
      "  DeprecationWarning)\n"
     ]
    }
   ],
   "source": [
    "rsquared = r2_score(predicted_results, y_test)\n",
    "mse = mean_squared_error(predicted_results,  y_test)\n",
    "print \"mean squared error is \" + str(mse)\n",
    "print \"rsquared score is \" + str(rsquared)"
   ]
  },
  {
   "cell_type": "code",
   "execution_count": null,
   "metadata": {
    "collapsed": true
   },
   "outputs": [],
   "source": [
    "# now we're going to try and compute it by hand\n",
    "B0 = 0\n",
    "B1 = 1\n",
    "w = 0\n",
    "alpha = 0\n",
    "delta = 0\n",
    "error = 0\n",
    "predicted = B0 + B1*x\n",
    "w = w - alpha * delta"
   ]
  },
  {
   "cell_type": "code",
   "execution_count": null,
   "metadata": {
    "collapsed": true
   },
   "outputs": [],
   "source": [
    "#calculate initial error\n",
    "error = predicted - actual"
   ]
  },
  {
   "cell_type": "code",
   "execution_count": 25,
   "metadata": {},
   "outputs": [
    {
     "data": {
      "text/plain": [
       "array([[ 0.85351198, -8.33500422],\n",
       "       [-4.37090028,  5.83052637],\n",
       "       [-4.44887705,  6.2763287 ],\n",
       "       ..., \n",
       "       [-1.63451752,  8.32250058],\n",
       "       [ 3.65279739,  1.05028448],\n",
       "       [-1.63442093,  8.32156377]])"
      ]
     },
     "execution_count": 25,
     "metadata": {},
     "output_type": "execute_result"
    }
   ],
   "source": [
    "model = TSNE(random_state = 0)\n",
    "model.fit_transform(hot_encoded_mushrooms_df)"
   ]
  },
  {
   "cell_type": "code",
   "execution_count": null,
   "metadata": {
    "collapsed": true
   },
   "outputs": [],
   "source": [
    "tsne_x = hot_encoded_mushrooms_df"
   ]
  }
 ],
 "metadata": {
  "kernelspec": {
   "display_name": "Python 2",
   "language": "python",
   "name": "python2"
  },
  "language_info": {
   "codemirror_mode": {
    "name": "ipython",
    "version": 2
   },
   "file_extension": ".py",
   "mimetype": "text/x-python",
   "name": "python",
   "nbconvert_exporter": "python",
   "pygments_lexer": "ipython2",
   "version": "2.7.10"
  }
 },
 "nbformat": 4,
 "nbformat_minor": 2
}
