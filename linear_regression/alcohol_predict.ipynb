{
 "cells": [
  {
   "cell_type": "code",
   "execution_count": null,
   "metadata": {
    "collapsed": true
   },
   "outputs": [],
   "source": [
    "# This file takes in 2 datasets . . . fields relating to their behavior to their\n",
    "# math scores (file 1) and portuguese scores (file 2). Try to make a prediction\n",
    "#\n",
    "# beh502 11/25/17"
   ]
  },
  {
   "cell_type": "code",
   "execution_count": 84,
   "metadata": {},
   "outputs": [],
   "source": [
    "import numpy as np\n",
    "import pandas as pd\n",
    "from sklearn.cross_validation import train_test_split\n",
    "from sklearn.linear_model import LinearRegression\n",
    "from sklearn.metrics import accuracy_score, r2_score, mean_squared_error"
   ]
  },
  {
   "cell_type": "code",
   "execution_count": 31,
   "metadata": {},
   "outputs": [],
   "source": [
    "#load the data\n",
    "math_file = pd.read_csv(\"/Users/beh502/ml-practice/linear_regression/data/student-mat.csv\")\n",
    "port_file = pd.read_csv(\"/Users/beh502/ml-practice/linear_regression/data/student-por.csv\")"
   ]
  },
  {
   "cell_type": "code",
   "execution_count": 33,
   "metadata": {},
   "outputs": [],
   "source": [
    "# only want one y value, dropping G1 and G2. Simplifying the problem\n",
    "math_file = math_file.drop(['G1','G2'], axis=1)"
   ]
  },
  {
   "cell_type": "code",
   "execution_count": 34,
   "metadata": {},
   "outputs": [],
   "source": [
    "# need to use one-hot-encoding since some columns have string values\n",
    "hot_features = pd.get_dummies(math_file)"
   ]
  },
  {
   "cell_type": "code",
   "execution_count": 40,
   "metadata": {},
   "outputs": [],
   "source": [
    "# need to split the data into train and test\n",
    "test_data, train_data = train_test_split(hot_features, train_size = 0.8, test_size = 0.2)"
   ]
  },
  {
   "cell_type": "code",
   "execution_count": 45,
   "metadata": {},
   "outputs": [],
   "source": [
    "# split into X and Y values\n",
    "x_train = train_data.drop(['G3'], axis = 1)\n",
    "y_train = train_data['G3']\n",
    "x_test = test_data.drop(['G3'], axis = 1)\n",
    "y_test = test_data['G3']"
   ]
  },
  {
   "cell_type": "code",
   "execution_count": 54,
   "metadata": {},
   "outputs": [],
   "source": [
    "# first try prediction without using the packages, but gradient descent with MSE\n",
    "B0 = 0\n",
    "B1 = 1\n",
    "w = 0\n",
    "alpha = 0\n",
    "delta = 0\n",
    "error = 0\n",
    "y = B0 + B1*x\n",
    "w = w - alpha * delta"
   ]
  },
  {
   "cell_type": "code",
   "execution_count": null,
   "metadata": {},
   "outputs": [],
   "source": [
    "# for index, row in train_data.iterrows():\n",
    "#     error = B0 + B1*row"
   ]
  },
  {
   "cell_type": "code",
   "execution_count": 86,
   "metadata": {},
   "outputs": [
    {
     "name": "stdout",
     "output_type": "stream",
     "text": [
      "(316,)\n",
      "(316,)\n",
      "<bound method LinearRegression.get_params of LinearRegression(copy_X=True, fit_intercept=True, n_jobs=1, normalize=False)>\n"
     ]
    }
   ],
   "source": [
    "model = LinearRegression()\n",
    "model = model.fit(x_train, y_train)\n",
    "predicted_results = model.predict(x_test)\n",
    "print predicted_results.shape\n",
    "print y_test.shape\n",
    "print model.get_params"
   ]
  },
  {
   "cell_type": "code",
   "execution_count": 87,
   "metadata": {},
   "outputs": [
    {
     "name": "stdout",
     "output_type": "stream",
     "text": [
      "10.3612531301\n",
      "6\n",
      "31.0301839356\n",
      "-0.45481409129\n"
     ]
    }
   ],
   "source": [
    "print predicted_results[0]\n",
    "print y_test[0]\n",
    "# r2 = model.score(predicted_results, y_test)\n",
    "\n",
    "rsquared = r2_score(predicted_results, y_test)\n",
    "mse = mean_squared_error(predicted_results,  y_test)\n",
    "print mse\n",
    "print rsquared\n",
    "# accuracy = accuracy_score(predicted_results, y_test)"
   ]
  },
  {
   "cell_type": "code",
   "execution_count": null,
   "metadata": {
    "collapsed": true
   },
   "outputs": [],
   "source": []
  },
  {
   "cell_type": "code",
   "execution_count": null,
   "metadata": {
    "collapsed": true
   },
   "outputs": [],
   "source": []
  }
 ],
 "metadata": {
  "kernelspec": {
   "display_name": "Python 2",
   "language": "python",
   "name": "python2"
  },
  "language_info": {
   "codemirror_mode": {
    "name": "ipython",
    "version": 2
   },
   "file_extension": ".py",
   "mimetype": "text/x-python",
   "name": "python",
   "nbconvert_exporter": "python",
   "pygments_lexer": "ipython2",
   "version": "2.7.10"
  }
 },
 "nbformat": 4,
 "nbformat_minor": 2
}
