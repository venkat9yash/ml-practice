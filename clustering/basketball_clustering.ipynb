{
 "cells": [
  {
   "cell_type": "code",
   "execution_count": 138,
   "metadata": {},
   "outputs": [],
   "source": [
    "import numpy as np\n",
    "import pandas as pd\n",
    "from sklearn.preprocessing import StandardScaler, Imputer\n",
    "from sklearn.cluster import KMeans\n",
    "from sklearn.pipeline import Pipeline"
   ]
  },
  {
   "cell_type": "code",
   "execution_count": 133,
   "metadata": {
    "collapsed": true
   },
   "outputs": [],
   "source": [
    "data = pd.read_csv('/Users/beh502/ml-practice/clustering/data/Seasons_Stats.csv')"
   ]
  },
  {
   "cell_type": "code",
   "execution_count": 134,
   "metadata": {},
   "outputs": [
    {
     "name": "stdout",
     "output_type": "stream",
     "text": [
      "['Unnamed: 0' 'Year' 'Player' 'Pos' 'Age' 'Tm' 'G' 'GS' 'MP' 'PER' 'TS%'\n",
      " '3PAr' 'FTr' 'ORB%' 'DRB%' 'TRB%' 'AST%' 'STL%' 'BLK%' 'TOV%' 'USG%'\n",
      " 'blanl' 'OWS' 'DWS' 'WS' 'WS/48' 'blank2' 'OBPM' 'DBPM' 'BPM' 'VORP' 'FG'\n",
      " 'FGA' 'FG%' '3P' '3PA' '3P%' '2P' '2PA' '2P%' 'eFG%' 'FT' 'FTA' 'FT%'\n",
      " 'ORB' 'DRB' 'TRB' 'AST' 'STL' 'BLK' 'TOV' 'PF' 'PTS']\n"
     ]
    }
   ],
   "source": [
    "print data.columns.values"
   ]
  },
  {
   "cell_type": "code",
   "execution_count": 135,
   "metadata": {},
   "outputs": [],
   "source": [
    "y_columns = ['FG%', 'FGA', 'FT%', 'AST', 'PTS']\n",
    "data_x = data.Player.map(str) + \"-\" + data.Year.map(str)\n",
    "data_y = pd.concat([data['FG%'], data['FGA'], data['FT%'], data['AST'], data['PTS']], axis=1)\n",
    "# data_y = pd.Dataframe(data[['FG%', 'FGA', 'FT%', 'AST', 'PTS']])"
   ]
  },
  {
   "cell_type": "code",
   "execution_count": 136,
   "metadata": {},
   "outputs": [
    {
     "name": "stdout",
     "output_type": "stream",
     "text": [
      "<class 'pandas.core.series.Series'>\n",
      "<class 'pandas.core.frame.DataFrame'>\n"
     ]
    }
   ],
   "source": [
    "print type(data_x)\n",
    "print type(data_y)"
   ]
  },
  {
   "cell_type": "code",
   "execution_count": 137,
   "metadata": {},
   "outputs": [
    {
     "name": "stdout",
     "output_type": "stream",
     "text": [
      "[[  2.79000000e-01   5.16000000e+02   7.05000000e-01   1.76000000e+02\n",
      "    4.58000000e+02]\n",
      " [  3.72000000e-01   2.74000000e+02   7.08000000e-01   1.09000000e+02\n",
      "    2.79000000e+02]\n",
      " [  3.49000000e-01   4.99000000e+02   6.98000000e-01   1.40000000e+02\n",
      "    4.38000000e+02]\n",
      " ..., \n",
      " [  3.23000000e-01   3.10000000e+01   6.00000000e-01   4.00000000e+00\n",
      "    2.30000000e+01]\n",
      " [  3.98000000e-01   2.21000000e+02   7.75000000e-01   3.60000000e+01\n",
      "    2.40000000e+02]\n",
      " [  5.29000000e-01   2.38000000e+02   6.53000000e-01   3.00000000e+01\n",
      "    2.84000000e+02]]\n"
     ]
    }
   ],
   "source": [
    "# now to normalize the data\n",
    "estimators = [\n",
    "    ('impute', Imputer(strategy='mean', axis=0)),\n",
    "    ('normalize', StandardScaler()),\n",
    "    ('cluster', KMeans(n_clusters=100))]\n",
    "pipeline = Pipeline(estimators)\n",
    "pipeline.fit(data_y)\n",
    "print data_y"
   ]
  },
  {
   "cell_type": "code",
   "execution_count": 98,
   "metadata": {},
   "outputs": [],
   "source": [
    "## K MEANS ##\n",
    "kmeans = KMeans(n_clusters = 100)\n",
    "results = kmeans.fit(data[['FG%', 'FGA', 'FT%', 'AST', 'PTS']])"
   ]
  },
  {
   "cell_type": "code",
   "execution_count": null,
   "metadata": {
    "collapsed": true
   },
   "outputs": [],
   "source": [
    "# hierarchial\n",
    "# CURE (compare to hierarchial)\n"
   ]
  }
 ],
 "metadata": {
  "kernelspec": {
   "display_name": "Python 2",
   "language": "python",
   "name": "python2"
  },
  "language_info": {
   "codemirror_mode": {
    "name": "ipython",
    "version": 2
   },
   "file_extension": ".py",
   "mimetype": "text/x-python",
   "name": "python",
   "nbconvert_exporter": "python",
   "pygments_lexer": "ipython2",
   "version": "2.7.10"
  }
 },
 "nbformat": 4,
 "nbformat_minor": 2
}
